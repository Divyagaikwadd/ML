{
 "cells": [
  {
   "cell_type": "code",
   "execution_count": 11,
   "id": "9b167595",
   "metadata": {},
   "outputs": [],
   "source": [
    "import pandas as pd\n",
    "from sklearn.model_selection import train_test_split\n",
    "from sklearn.svm import SVC\n",
    "from sklearn.metrics import accuracy_score,precision_score, recall_score, f1_score,confusion_matrix"
   ]
  },
  {
   "cell_type": "code",
   "execution_count": 12,
   "id": "f1408372",
   "metadata": {},
   "outputs": [],
   "source": [
    "df = pd.read_csv(\"emails.csv\")"
   ]
  },
  {
   "cell_type": "code",
   "execution_count": 13,
   "id": "e81911a1",
   "metadata": {},
   "outputs": [
    {
     "data": {
      "text/plain": [
       "Email No.     0\n",
       "the           0\n",
       "to            0\n",
       "ect           0\n",
       "and           0\n",
       "             ..\n",
       "military      0\n",
       "allowing      0\n",
       "ff            0\n",
       "dry           0\n",
       "Prediction    0\n",
       "Length: 3002, dtype: int64"
      ]
     },
     "execution_count": 13,
     "metadata": {},
     "output_type": "execute_result"
    }
   ],
   "source": [
    "df.isnull().sum()"
   ]
  },
  {
   "cell_type": "code",
   "execution_count": 14,
   "id": "d39a26c1",
   "metadata": {},
   "outputs": [],
   "source": [
    "X = df.drop(['Email No.', 'Prediction'], axis=1)\n",
    "y = df['Prediction']"
   ]
  },
  {
   "cell_type": "code",
   "execution_count": 15,
   "id": "db28b4d2",
   "metadata": {},
   "outputs": [],
   "source": [
    "X_train, X_test, y_train, y_test = train_test_split(X, y, test_size=0.2, random_state=42)"
   ]
  },
  {
   "cell_type": "code",
   "execution_count": 16,
   "id": "60a77fd2",
   "metadata": {},
   "outputs": [
    {
     "name": "stdout",
     "output_type": "stream",
     "text": [
      "SVM Accuracy: 95.94202898550725\n"
     ]
    }
   ],
   "source": [
    "svm_classifier = SVC(kernel='linear')\n",
    "\n",
    "# Train the classifier on the training data\n",
    "svm_classifier.fit(X_train, y_train)\n",
    "\n",
    "# Make predictions on the test set\n",
    "svm_predictions = svm_classifier.predict(X_test)\n",
    "\n",
    "# Calculate the accuracy of the SVM classifier\n",
    "svm_accuracy = accuracy_score(y_test, svm_predictions)\n",
    "print(\"SVM Accuracy:\", svm_accuracy * 100)"
   ]
  },
  {
   "cell_type": "code",
   "execution_count": 17,
   "id": "bd94b71b",
   "metadata": {},
   "outputs": [
    {
     "name": "stdout",
     "output_type": "stream",
     "text": [
      "KNN Precision:  0.9205298013245033\n",
      "KNN Recall:  0.9391891891891891\n",
      "KNN F1 Score:  0.9297658862876255\n",
      "Confusion Matrix:\n",
      "[[715  24]\n",
      " [ 18 278]]\n"
     ]
    }
   ],
   "source": [
    "precision = precision_score(y_test, svm_predictions)\n",
    "print(\" Precision: \", precision)\n",
    "\n",
    "# Recall\n",
    "recall = recall_score(y_test, svm_predictions)\n",
    "print(\"Recall: \", knn_recall)\n",
    "\n",
    "# F1 Score\n",
    "f1_score = f1_score(y_test, svm_predictions)\n",
    "print(\" F1 Score: \", f1_score)\n",
    "\n",
    "print(\"Confusion Matrix:\")\n",
    "print(confusion_matrix(y_test, svm_predictions))"
   ]
  }
 ],
 "metadata": {
  "kernelspec": {
   "display_name": "Python 3 (ipykernel)",
   "language": "python",
   "name": "python3"
  },
  "language_info": {
   "codemirror_mode": {
    "name": "ipython",
    "version": 3
   },
   "file_extension": ".py",
   "mimetype": "text/x-python",
   "name": "python",
   "nbconvert_exporter": "python",
   "pygments_lexer": "ipython3",
   "version": "3.9.13"
  }
 },
 "nbformat": 4,
 "nbformat_minor": 5
}
