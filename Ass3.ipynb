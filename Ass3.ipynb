{
 "cells": [
  {
   "cell_type": "code",
   "execution_count": 10,
   "id": "62e50f1c",
   "metadata": {},
   "outputs": [],
   "source": [
    "import pandas as pd\n",
    "import numpy as np\n",
    "from sklearn.model_selection import train_test_split\n",
    "from sklearn.neighbors import KNeighborsClassifier\n",
    "from sklearn.metrics import accuracy_score,precision_score, recall_score, f1_score\n"
   ]
  },
  {
   "cell_type": "code",
   "execution_count": 2,
   "id": "bad6fb20",
   "metadata": {},
   "outputs": [],
   "source": [
    "df = pd.read_csv(\"emails.csv\")"
   ]
  },
  {
   "cell_type": "code",
   "execution_count": 3,
   "id": "70b1b0ce",
   "metadata": {},
   "outputs": [
    {
     "data": {
      "text/plain": [
       "Email No.     0\n",
       "the           0\n",
       "to            0\n",
       "ect           0\n",
       "and           0\n",
       "             ..\n",
       "military      0\n",
       "allowing      0\n",
       "ff            0\n",
       "dry           0\n",
       "Prediction    0\n",
       "Length: 3002, dtype: int64"
      ]
     },
     "execution_count": 3,
     "metadata": {},
     "output_type": "execute_result"
    }
   ],
   "source": [
    "df.isnull().sum()"
   ]
  },
  {
   "cell_type": "code",
   "execution_count": 5,
   "id": "80092df1",
   "metadata": {},
   "outputs": [],
   "source": [
    "X = df.drop(columns=[\"Email No.\",\"Prediction\"])\n"
   ]
  },
  {
   "cell_type": "code",
   "execution_count": 6,
   "id": "adbfaaa2",
   "metadata": {},
   "outputs": [],
   "source": [
    "Y = df[\"Prediction\"]"
   ]
  },
  {
   "cell_type": "code",
   "execution_count": 7,
   "id": "6ec4c1c4",
   "metadata": {},
   "outputs": [
    {
     "name": "stdout",
     "output_type": "stream",
     "text": [
      "(3879, 3000)\n",
      "(3879,)\n"
     ]
    }
   ],
   "source": [
    "X_train, X_test, y_train, y_test = train_test_split(X, Y, test_size=0.25, random_state=42)\n",
    "print(X_train.shape)\n",
    "print(y_train.shape)"
   ]
  },
  {
   "cell_type": "code",
   "execution_count": 9,
   "id": "a3363c07",
   "metadata": {},
   "outputs": [
    {
     "name": "stdout",
     "output_type": "stream",
     "text": [
      "KNN Accuracy: 86.77494199535964\n"
     ]
    }
   ],
   "source": [
    "# Initialize the KNN classifier\n",
    "knn_classifier = KNeighborsClassifier(n_neighbors=2)\n",
    "\n",
    "# Train the classifier on the training data\n",
    "knn_classifier.fit(X_train, y_train)\n",
    "\n",
    "# Make predictions on the test set\n",
    "knn_predictions = knn_classifier.predict(X_test)\n",
    "\n",
    "# Calculate the accuracy of the KNN classifier\n",
    "knn_accuracy = accuracy_score(y_test, knn_predictions)\n",
    "print(\"KNN Accuracy:\", knn_accuracy * 100)\n"
   ]
  },
  {
   "cell_type": "code",
   "execution_count": 11,
   "id": "9828ef75",
   "metadata": {},
   "outputs": [
    {
     "name": "stdout",
     "output_type": "stream",
     "text": [
      "KNN Precision:  0.8119402985074626\n",
      "KNN Recall:  0.7157894736842105\n",
      "KNN F1 Score:  0.7608391608391608\n"
     ]
    }
   ],
   "source": [
    "knn_precision = precision_score(y_test, knn_predictions)\n",
    "print(\"KNN Precision: \", knn_precision)\n",
    "\n",
    "# Recall\n",
    "knn_recall = recall_score(y_test, knn_predictions)\n",
    "print(\"KNN Recall: \", knn_recall)\n",
    "\n",
    "# F1 Score\n",
    "knn_f1_score = f1_score(y_test, knn_predictions)\n",
    "print(\"KNN F1 Score: \", knn_f1_score)"
   ]
  },
  {
   "cell_type": "code",
   "execution_count": null,
   "id": "175edab6",
   "metadata": {},
   "outputs": [],
   "source": []
  }
 ],
 "metadata": {
  "kernelspec": {
   "display_name": "Python 3 (ipykernel)",
   "language": "python",
   "name": "python3"
  },
  "language_info": {
   "codemirror_mode": {
    "name": "ipython",
    "version": 3
   },
   "file_extension": ".py",
   "mimetype": "text/x-python",
   "name": "python",
   "nbconvert_exporter": "python",
   "pygments_lexer": "ipython3",
   "version": "3.9.13"
  }
 },
 "nbformat": 4,
 "nbformat_minor": 5
}
